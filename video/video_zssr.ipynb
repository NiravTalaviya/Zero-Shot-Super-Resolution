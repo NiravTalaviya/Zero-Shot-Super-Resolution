{
  "nbformat": 4,
  "nbformat_minor": 0,
  "metadata": {
    "colab": {
      "name": "video-zssr.ipynb",
      "provenance": [],
      "collapsed_sections": []
    },
    "kernelspec": {
      "name": "python3",
      "display_name": "Python 3"
    },
    "accelerator": "GPU",
    "widgets": {
      "application/vnd.jupyter.widget-state+json": {
        "9544a77c2ec34df6aa74d2de53ddcc44": {
          "model_module": "@jupyter-widgets/controls",
          "model_name": "HBoxModel",
          "state": {
            "_view_name": "HBoxView",
            "_dom_classes": [],
            "_model_name": "HBoxModel",
            "_view_module": "@jupyter-widgets/controls",
            "_model_module_version": "1.5.0",
            "_view_count": null,
            "_view_module_version": "1.5.0",
            "box_style": "",
            "layout": "IPY_MODEL_2c4de0e02cfe4110ae7a3e571fc70f22",
            "_model_module": "@jupyter-widgets/controls",
            "children": [
              "IPY_MODEL_2b8967f0456d4a37881a7d7a36851ab7",
              "IPY_MODEL_924464de0b774a1390f37ce21bb97829"
            ]
          }
        },
        "2c4de0e02cfe4110ae7a3e571fc70f22": {
          "model_module": "@jupyter-widgets/base",
          "model_name": "LayoutModel",
          "state": {
            "_view_name": "LayoutView",
            "grid_template_rows": null,
            "right": null,
            "justify_content": null,
            "_view_module": "@jupyter-widgets/base",
            "overflow": null,
            "_model_module_version": "1.2.0",
            "_view_count": null,
            "flex_flow": null,
            "width": null,
            "min_width": null,
            "border": null,
            "align_items": null,
            "bottom": null,
            "_model_module": "@jupyter-widgets/base",
            "top": null,
            "grid_column": null,
            "overflow_y": null,
            "overflow_x": null,
            "grid_auto_flow": null,
            "grid_area": null,
            "grid_template_columns": null,
            "flex": null,
            "_model_name": "LayoutModel",
            "justify_items": null,
            "grid_row": null,
            "max_height": null,
            "align_content": null,
            "visibility": null,
            "align_self": null,
            "height": null,
            "min_height": null,
            "padding": null,
            "grid_auto_rows": null,
            "grid_gap": null,
            "max_width": null,
            "order": null,
            "_view_module_version": "1.2.0",
            "grid_template_areas": null,
            "object_position": null,
            "object_fit": null,
            "grid_auto_columns": null,
            "margin": null,
            "display": null,
            "left": null
          }
        },
        "2b8967f0456d4a37881a7d7a36851ab7": {
          "model_module": "@jupyter-widgets/controls",
          "model_name": "FloatProgressModel",
          "state": {
            "_view_name": "ProgressView",
            "style": "IPY_MODEL_6737e750e1d44a9da1cf79d8d2451fdc",
            "_dom_classes": [],
            "description": "100%",
            "_model_name": "FloatProgressModel",
            "bar_style": "",
            "max": 213,
            "_view_module": "@jupyter-widgets/controls",
            "_model_module_version": "1.5.0",
            "value": 213,
            "_view_count": null,
            "_view_module_version": "1.5.0",
            "orientation": "horizontal",
            "min": 0,
            "description_tooltip": null,
            "_model_module": "@jupyter-widgets/controls",
            "layout": "IPY_MODEL_baee3957e5544cf2a253925cdc5ffe80"
          }
        },
        "924464de0b774a1390f37ce21bb97829": {
          "model_module": "@jupyter-widgets/controls",
          "model_name": "HTMLModel",
          "state": {
            "_view_name": "HTMLView",
            "style": "IPY_MODEL_5a1b420e7e9b4b5da097a8714e323265",
            "_dom_classes": [],
            "description": "",
            "_model_name": "HTMLModel",
            "placeholder": "​",
            "_view_module": "@jupyter-widgets/controls",
            "_model_module_version": "1.5.0",
            "value": " 213/213 [08:27&lt;00:00,  2.41s/it, e: 212/213 =&gt; Loss: 52.511, Psnr: 31.240]",
            "_view_count": null,
            "_view_module_version": "1.5.0",
            "description_tooltip": null,
            "_model_module": "@jupyter-widgets/controls",
            "layout": "IPY_MODEL_53013b5444a9455390da32c0301e83ed"
          }
        },
        "6737e750e1d44a9da1cf79d8d2451fdc": {
          "model_module": "@jupyter-widgets/controls",
          "model_name": "ProgressStyleModel",
          "state": {
            "_view_name": "StyleView",
            "_model_name": "ProgressStyleModel",
            "description_width": "initial",
            "_view_module": "@jupyter-widgets/base",
            "_model_module_version": "1.5.0",
            "_view_count": null,
            "_view_module_version": "1.2.0",
            "bar_color": null,
            "_model_module": "@jupyter-widgets/controls"
          }
        },
        "baee3957e5544cf2a253925cdc5ffe80": {
          "model_module": "@jupyter-widgets/base",
          "model_name": "LayoutModel",
          "state": {
            "_view_name": "LayoutView",
            "grid_template_rows": null,
            "right": null,
            "justify_content": null,
            "_view_module": "@jupyter-widgets/base",
            "overflow": null,
            "_model_module_version": "1.2.0",
            "_view_count": null,
            "flex_flow": null,
            "width": null,
            "min_width": null,
            "border": null,
            "align_items": null,
            "bottom": null,
            "_model_module": "@jupyter-widgets/base",
            "top": null,
            "grid_column": null,
            "overflow_y": null,
            "overflow_x": null,
            "grid_auto_flow": null,
            "grid_area": null,
            "grid_template_columns": null,
            "flex": null,
            "_model_name": "LayoutModel",
            "justify_items": null,
            "grid_row": null,
            "max_height": null,
            "align_content": null,
            "visibility": null,
            "align_self": null,
            "height": null,
            "min_height": null,
            "padding": null,
            "grid_auto_rows": null,
            "grid_gap": null,
            "max_width": null,
            "order": null,
            "_view_module_version": "1.2.0",
            "grid_template_areas": null,
            "object_position": null,
            "object_fit": null,
            "grid_auto_columns": null,
            "margin": null,
            "display": null,
            "left": null
          }
        },
        "5a1b420e7e9b4b5da097a8714e323265": {
          "model_module": "@jupyter-widgets/controls",
          "model_name": "DescriptionStyleModel",
          "state": {
            "_view_name": "StyleView",
            "_model_name": "DescriptionStyleModel",
            "description_width": "",
            "_view_module": "@jupyter-widgets/base",
            "_model_module_version": "1.5.0",
            "_view_count": null,
            "_view_module_version": "1.2.0",
            "_model_module": "@jupyter-widgets/controls"
          }
        },
        "53013b5444a9455390da32c0301e83ed": {
          "model_module": "@jupyter-widgets/base",
          "model_name": "LayoutModel",
          "state": {
            "_view_name": "LayoutView",
            "grid_template_rows": null,
            "right": null,
            "justify_content": null,
            "_view_module": "@jupyter-widgets/base",
            "overflow": null,
            "_model_module_version": "1.2.0",
            "_view_count": null,
            "flex_flow": null,
            "width": null,
            "min_width": null,
            "border": null,
            "align_items": null,
            "bottom": null,
            "_model_module": "@jupyter-widgets/base",
            "top": null,
            "grid_column": null,
            "overflow_y": null,
            "overflow_x": null,
            "grid_auto_flow": null,
            "grid_area": null,
            "grid_template_columns": null,
            "flex": null,
            "_model_name": "LayoutModel",
            "justify_items": null,
            "grid_row": null,
            "max_height": null,
            "align_content": null,
            "visibility": null,
            "align_self": null,
            "height": null,
            "min_height": null,
            "padding": null,
            "grid_auto_rows": null,
            "grid_gap": null,
            "max_width": null,
            "order": null,
            "_view_module_version": "1.2.0",
            "grid_template_areas": null,
            "object_position": null,
            "object_fit": null,
            "grid_auto_columns": null,
            "margin": null,
            "display": null,
            "left": null
          }
        }
      }
    }
  },
  "cells": [
    {
      "cell_type": "code",
      "metadata": {
        "id": "L8fFGmjNOp9K",
        "colab_type": "code",
        "colab": {}
      },
      "source": [
        "def super_resolution(img, sr_factor, model=None):\n",
        "    \"\"\"Super Resolve an image\n",
        "\n",
        "    Args:\n",
        "        img (numpy array): Input image\n",
        "        sr_factor (int): Factor by which resolution should increase\n",
        "        model (tf model): Trained ML model for SR\n",
        "    Returns:\n",
        "        sr_img (numpy array): Super Resolved image\n",
        "    \"\"\"\n",
        "    if model is None:\n",
        "        res = cv2.resize(img, None, fx=sr_factor, fy=sr_factor, interpolation=cv2.INTER_CUBIC)\n",
        "        return res\n",
        "    \n",
        "    img = img.astype(np.float32)\n",
        "    interpolated_image = cv2.resize(img, None, fx=sr_factor, fy=sr_factor, interpolation=cv2.INTER_CUBIC)\n",
        "    interpolated_image = np.expand_dims(interpolated_image, axis=0)\n",
        "    \n",
        "    sr_img = model.predict(interpolated_image)\n",
        "    sr_img = np.squeeze(sr_img, axis=(0))\n",
        "    sr_img = cv2.convertScaleAbs(sr_img)\n",
        "\n",
        "    return sr_img"
      ],
      "execution_count": 0,
      "outputs": []
    },
    {
      "cell_type": "code",
      "metadata": {
        "id": "DORSAZFTRSzr",
        "colab_type": "code",
        "colab": {}
      },
      "source": [
        "SR_FACTOR = 2\n",
        "\n",
        " # Mean pixel noise added to lr sons\n",
        "INITIAL_LRATE = 0.001 # INITIAL Learning rat\n",
        "CV_IMWRITE_PNG_COMPRESSION = 9 # png compression ratio: best quality\n",
        "LEARNING_RATE_CYCLES = False # Decide if learning rate should drop in cyclic periods."
      ],
      "execution_count": 0,
      "outputs": []
    },
    {
      "cell_type": "code",
      "metadata": {
        "id": "UABHW9i2H-u4",
        "colab_type": "code",
        "outputId": "71a1dfe0-b7d4-4b6c-efd0-59f0a9346e94",
        "colab": {
          "base_uri": "https://localhost:8080/",
          "height": 34
        }
      },
      "source": [
        "import cv2\n",
        "import numpy as np\n",
        "\n",
        "name = 'letters'\n",
        "\n",
        "cap = cv2.VideoCapture('/content/' + name + '.mp4')\n",
        "if (cap.isOpened()== False): \n",
        "    print(\"Error opening video stream or file\")\n",
        "\n",
        "w = int(cap.get(3))\n",
        "h = int(cap.get(4))\n",
        "fps = cap.get(cv2.CAP_PROP_FPS)\n",
        "\n",
        "frame_array=[]\n",
        "size = (w,h)\n",
        "\n",
        "path_out = 'lr_' + name + '.avi'\n",
        "out = cv2.VideoWriter(path_out, cv2.VideoWriter_fourcc(*'DIVX'), fps, size)\n",
        "while cap.isOpened():\n",
        "    ret, img = cap.read()\n",
        "    if ret == True:\n",
        "        out.write(img)\n",
        "        img = cv2.cvtColor(img, cv2.COLOR_RGB2BGR)\n",
        "        frame_array.append(img)\n",
        "    else:\n",
        "        out.release()\n",
        "        break\n",
        "\n",
        "frame_array = np.array(frame_array)\n",
        "lr_array = frame_array.copy()\n",
        "frame_array.shape"
      ],
      "execution_count": 7,
      "outputs": [
        {
          "output_type": "execute_result",
          "data": {
            "text/plain": [
              "(99, 320, 240, 3)"
            ]
          },
          "metadata": {
            "tags": []
          },
          "execution_count": 7
        }
      ]
    },
    {
      "cell_type": "code",
      "metadata": {
        "id": "P3c3Nuf9g66e",
        "colab_type": "code",
        "outputId": "72b5f459-20fb-4f81-d856-56aaac5bb3b9",
        "colab": {
          "base_uri": "https://localhost:8080/",
          "height": 83,
          "referenced_widgets": [
            "9544a77c2ec34df6aa74d2de53ddcc44",
            "2c4de0e02cfe4110ae7a3e571fc70f22",
            "2b8967f0456d4a37881a7d7a36851ab7",
            "924464de0b774a1390f37ce21bb97829",
            "6737e750e1d44a9da1cf79d8d2451fdc",
            "baee3957e5544cf2a253925cdc5ffe80",
            "5a1b420e7e9b4b5da097a8714e323265",
            "53013b5444a9455390da32c0301e83ed"
          ]
        }
      },
      "source": [
        "from data import DatasetLoader\n",
        "from utils import *\n",
        "from network import ZSSR\n",
        "\n",
        "import time\n",
        "import math\n",
        "import tensorflow as tf\n",
        "import matplotlib.pyplot as plt\n",
        "from tqdm.auto import tqdm\n",
        "\n",
        "SR_FACTOR = 2 # scaling factor\n",
        "EPOCHS = 21000\n",
        "NB_PAIRS = math.ceil(EPOCHS / frame_array.shape[0])# NB pais \n",
        "NB_STEPS = 1 # Steps per epoch\n",
        "\n",
        "NB_CHANNELS = 3 #Channels\n",
        "FILTERS = 64 # FILTERS\n",
        "\n",
        "CROP_SIZE = [96] # image crop size\n",
        "NOISE_FLAG = True\n",
        "NOISY_PIXELS_STD = 0.04\n",
        "\n",
        "\n",
        "dl = DatasetLoader((frame_array.shape[1], frame_array.shape[2],\n",
        "                 frame_array.shape[3]),\n",
        "                )\n",
        "s_fact, inter_s_fact = dl.s_fact(SR_FACTOR, NB_PAIRS, NB_STEPS)\n",
        "\n",
        "\n",
        "zssr = ZSSR(NB_CHANNELS, FILTERS)\n",
        "optimizer = tf.keras.optimizers.Adam(learning_rate=INITIAL_LRATE)\n",
        "\n",
        "def loss(model, x, y, training):\n",
        "  y_ = model(x, training=training)\n",
        "  mse = tf.keras.losses.MeanSquaredError(reduction=tf.keras.losses.Reduction.SUM)\n",
        "  psnr = tf.image.psnr(y, y_, max_val = 255)\n",
        "  return mse(tf.reshape(y, [-1]), tf.reshape(y_, [-1])), psnr\n",
        "def grad(model, inputs, targets):\n",
        "  with tf.GradientTape() as tape:\n",
        "    loss_value, psnr_value = loss(model, inputs, targets, training=True)\n",
        "  return loss_value, psnr_value, tape.gradient(loss_value, model.trainable_variables)\n",
        "\n",
        "loss_avg = []\n",
        "psnr_avg = []\n",
        "\n",
        "st = time.time()\n",
        "\n",
        "pbar = tqdm(total=NB_PAIRS)\n",
        "for i, (sf, isf) in enumerate(zip(s_fact, inter_s_fact)):\n",
        "    loss_ = 0\n",
        "    psnr_ = 0\n",
        "    for frame in frame_array:\n",
        "        X, y = preprocess(frame, sf, isf, CROP_SIZE,\n",
        "                          NOISE_FLAG, NOISY_PIXELS_STD)\n",
        "        ''' Train zssr '''\n",
        "        # plt.figure()\n",
        "        # plt.imshow(X[0,:,:,:].astype(np.uint8))\n",
        "        # break\n",
        "        loss_value, psnr_value, grads = grad(zssr, X, y)\n",
        "        optimizer.apply_gradients(zip(grads, zssr.trainable_variables))\n",
        "        \n",
        "        loss_ += loss_value.numpy()\n",
        "        psnr_ += psnr_value.numpy()[0]\n",
        "\n",
        "    loss_avg.append(loss_ / len(frame_array)) \n",
        "    psnr_avg.append(psnr_ / len(frame_array))\n",
        "\n",
        "    pbar.update(1)\n",
        "    pbar.set_postfix_str(\"e: {}/{} => Loss: {:.3f}, Psnr: {:.3f}\". format(\n",
        "            i, NB_PAIRS, loss_ / len(frame_array), psnr_ / len(frame_array)))\n",
        "et = time.time()\n",
        "print(\"Number of Pairs:\", NB_PAIRS)\n",
        "print(\"Time spent: \", time_diff(et, st))"
      ],
      "execution_count": 33,
      "outputs": [
        {
          "output_type": "display_data",
          "data": {
            "application/vnd.jupyter.widget-view+json": {
              "model_id": "9544a77c2ec34df6aa74d2de53ddcc44",
              "version_minor": 0,
              "version_major": 2
            },
            "text/plain": [
              "HBox(children=(FloatProgress(value=0.0, max=213.0), HTML(value='')))"
            ]
          },
          "metadata": {
            "tags": []
          }
        },
        {
          "output_type": "stream",
          "text": [
            "Number of Pairs: 213\n",
            "Time spent:  (8, 27)\n"
          ],
          "name": "stdout"
        }
      ]
    },
    {
      "cell_type": "code",
      "metadata": {
        "id": "QcODVAw1cEwh",
        "colab_type": "code",
        "colab": {
          "base_uri": "https://localhost:8080/",
          "height": 558
        },
        "outputId": "8dfd7095-6856-493c-dad6-65f6a33c45b8"
      },
      "source": [
        " fig, axes = plt.subplots(2, sharex=True, figsize=(12, 8))\n",
        "fig.suptitle('Training Metrics')\n",
        "\n",
        "axes[0].set_ylabel(\"Loss\", fontsize=14)\n",
        "axes[0].plot(loss_avg)\n",
        "\n",
        "axes[1].set_ylabel(\"Accuracy\", fontsize=14)\n",
        "axes[1].set_xlabel(\"Epoch\", fontsize=14)\n",
        "axes[1].plot(psnr_avg)\n",
        "plt.show()"
      ],
      "execution_count": 34,
      "outputs": [
        {
          "output_type": "display_data",
          "data": {
            "image/png": "[encoded data removed]",
            "text/plain": [
              "<Figure size 864x576 with 2 Axes>"
            ]
          },
          "metadata": {
            "tags": [],
            "needs_background": "light"
          }
        }
      ]
    },
    {
      "cell_type": "markdown",
      "metadata": {
        "id": "cGuYrOwiyYge",
        "colab_type": "text"
      },
      "source": [
        "# Assemble Video"
      ]
    },
    {
      "cell_type": "markdown",
      "metadata": {
        "id": "5jnZk1ih6qSC",
        "colab_type": "text"
      },
      "source": [
        "## ZSSR"
      ]
    },
    {
      "cell_type": "code",
      "metadata": {
        "id": "AmyWDAx_lezs",
        "colab_type": "code",
        "outputId": "6ecae2e9-1988-48c4-9255-b6e3fe55d3a1",
        "colab": {
          "base_uri": "https://localhost:8080/",
          "height": 34
        }
      },
      "source": [
        "st = time.time()\n",
        "\n",
        "path_out = 'zssr_' + name + '_e' + str(EPOCHS) +'.avi'\n",
        "out_size = (lr_array[0].shape[1] * SR_FACTOR, lr_array[0].shape[0] * SR_FACTOR)\n",
        "out = cv2.VideoWriter(path_out, cv2.VideoWriter_fourcc(*'DIVX'), fps, out_size)\n",
        "\n",
        "for lr in lr_array:\n",
        "    sr = super_resolution(lr, SR_FACTOR, model=zssr)\n",
        "    sr = cv2.cvtColor(sr, cv2.COLOR_BGR2RGB)\n",
        "    out.write(sr)\n",
        "out.release()\n",
        "\n",
        "et = time.time()\n",
        "print(\"Save time spent: \", time_diff(et, st))"
      ],
      "execution_count": 35,
      "outputs": [
        {
          "output_type": "stream",
          "text": [
            "Save time spent:  (0, 5)\n"
          ],
          "name": "stdout"
        }
      ]
    },
    {
      "cell_type": "markdown",
      "metadata": {
        "id": "YmXVl1XQ6sCF",
        "colab_type": "text"
      },
      "source": [
        "## Bicubic"
      ]
    },
    {
      "cell_type": "code",
      "metadata": {
        "id": "tlWauziEwqKG",
        "colab_type": "code",
        "colab": {}
      },
      "source": [
        "path_out = 'bicubic_' + name +'.avi'\n",
        "out_size = (lr_array[0].shape[1] * SR_FACTOR, lr_array[0].shape[0] * SR_FACTOR)\n",
        "out = cv2.VideoWriter(path_out, cv2.VideoWriter_fourcc(*'DIVX'), fps, out_size)\n",
        "\n",
        "for lr in lr_array:\n",
        "    sr = super_resolution(lr, SR_FACTOR)\n",
        "    sr = cv2.cvtColor(sr, cv2.COLOR_BGR2RGB)\n",
        "    out.write(sr)\n",
        "out.release()"
      ],
      "execution_count": 0,
      "outputs": []
    }
  ]
}